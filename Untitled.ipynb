{
 "cells": [
  {
   "cell_type": "markdown",
   "metadata": {},
   "source": [
    "### Инициализация библиотек и переменных"
   ]
  },
  {
   "cell_type": "code",
   "execution_count": 1,
   "metadata": {
    "jupyter": {
     "source_hidden": true
    }
   },
   "outputs": [],
   "source": [
    "import pandas as pd\n",
    "import numpy as np\n",
    "import networkx as nx\n",
    "import re\n",
    "import os\n",
    "import datetime\n",
    "import clickhouse_driver\n",
    "from scipy import stats\n",
    "\n",
    "import seaborn as sns\n",
    "import matplotlib.pyplot as plt\n",
    "import plotly.graph_objs as go\n",
    "\n",
    "%matplotlib inline"
   ]
  },
  {
   "cell_type": "markdown",
   "metadata": {},
   "source": [
    "# Вариант 6\n",
    "## Задание 1\n",
    "Определите все возможные параметры эмпирического распределения и оцените его соответствие с законом\n",
    "нормального распределения."
   ]
  },
  {
   "cell_type": "code",
   "execution_count": 66,
   "metadata": {},
   "outputs": [
    {
     "data": {
      "image/png": "[encoded data removed]",
      "text/plain": [
       "<Figure size 864x432 with 1 Axes>"
      ]
     },
     "metadata": {
      "needs_background": "light"
     },
     "output_type": "display_data"
    }
   ],
   "source": [
    "sample = np.array([\n",
    "    25, 6, 30, 22, 10, 27, 21, 3, 29, 13, 25, 12, 25, 8, 14, 3, 12, 6, 5, 2,\n",
    "    1, 30, 17, 22, 25, 27, 29, 16, 2, 4, 13, 26, 10, 12, 17, 20, 9, 8, 23, 7,\n",
    "    20, 17, 19, 15, 24, 2, 18, 6, 8, 22, 8, 8, 21, 24, 29, 16, 20, 28, 1, 21,\n",
    "    1, 14, 17, 11, 26, 4, 30, 5, 11, 22, 12, 1, 9, 30, 15, 2, 1, 2, 8, 9, 24,\n",
    "    15, 16, 15, 8, 14, 1, 28, 11, 2, 19, 12, 15, 5, 22, 11, 9, 22, 16, 20, 14,\n",
    "    27, 20, 22, 26, 4, 24, 27, 6, 1, 5, 29, 15, 20, 14, 23, 4, 14, 20, 15, 15,\n",
    "    9, 26, 30, 13, 18, 11, 22, 10, 26, 11, 23, 22, 30, 15, 17, 4, 8, 14, 10, 8,\n",
    "    19, 9, 23, 9, 22, 15, 12, 5, 5, 26, 20, 13, 22, 19, 26, 10, 29, 17, 19, 24,\n",
    "    27, 12, 15, 27, 26, 2, 30, 3, 16, 9, 11, 4, 17, 3, 12, 9, 17, 24, 13, 22,\n",
    "    20, 2, 4, 11, 21, 29, 20, 19, 16, 8, 13, 12, 20, 28, 9, 15, 30, 9, 17\n",
    "])\n",
    "plt.figure(figsize=(12, 6))\n",
    "plt.hist(sample);"
   ]
  },
  {
   "cell_type": "code",
   "execution_count": 67,
   "metadata": {},
   "outputs": [
    {
     "name": "stdout",
     "output_type": "stream",
     "text": [
      "Выборочные характеристики данных\n",
      "Выборочное среднее: 15.380 \n",
      "Выборочная дисперсия: 69.886 \n",
      "Выборочное среднеквадратичное отклонение: 8.360 \n",
      "Статистика теста Манна-Уитни: 0.962556 \n",
      "p-value теста Манна-Уитни: 0.000038 \n",
      "При уровне значимости alpha = 0.05 мы отвергаем гипотезу о принадлежности выборки к нормальному распределению\n"
     ]
    }
   ],
   "source": [
    "shapiro_test_1 = stats.shapiro(sample)\n",
    "\n",
    "print(\n",
    "    \"Выборочные характеристики данных\"\n",
    "    \"\\nВыборочное среднее: %.3f\" %sample.mean(),\n",
    "    \"\\nВыборочная дисперсия: %.3f\" %sample.var(),\n",
    "    \"\\nВыборочное среднеквадратичное отклонение: %.3f\" %sample.std(),\n",
    "    \"\\nСтатистика теста Манна-Уитни: %.6f\" %shapiro_test_1[0],\n",
    "    \"\\np-value теста Манна-Уитни: %.6f\" %shapiro_test_1[1],\n",
    "    \"\\nПри уровне значимости alpha = 0.05 мы отвергаем гипотезу о принадлежности выборки к нормальному распределению\"\n",
    ")"
   ]
  },
  {
   "cell_type": "markdown",
   "metadata": {},
   "source": [
    "## Задание 2\n",
    "Психолога цікавило, чи існують відмінності між особами, що різняться за рівнем інтелектуальної\n",
    "витривалості (низький/високий), у показниках емпатії. Обґрунтуйте вибір критерію та інтерпретуйте\n",
    "отриманий результат.\n",
    "Показники емпатії у осіб з низьким рівнем інтелектуальної витривалості: \n",
    "<br>24, 10, 11, 22, 22, 6, 14, 19, 5, 5, 19, 15, 25, 9, 12, 5, 5, 19, 18, 5, 11, 15, 21, 20, 21, 12, 18, 11, 4, 16, 9, 2, 1, 20, 24, 22, 1, 12, 16, 5, 17, 9, 20, 16, 18, 7, 21, 22, 25, 13\n",
    "<br>Показники емпатії у осіб з високим рівнем інтелектуальної витривалості: \n",
    "<br>16, 22, 19, 26, 15, 12, 14, 25, 8, 8, 11, 16, 30, 19, 30, 7, 24, 17, 23, 13, 30, 16, 15, 27, 27, 15, 23, 28, 14, 14, 8, 24, 29, 20, 19, 13, 26, 27, 8, 27, 28, 12, 12, 27, 24, 12, 28, 18, 23, 20"
   ]
  },
  {
   "cell_type": "code",
   "execution_count": 74,
   "metadata": {},
   "outputs": [
    {
     "data": {
      "image/png": "[encoded data removed]",
      "text/plain": [
       "<Figure size 864x432 with 1 Axes>"
      ]
     },
     "metadata": {
      "needs_background": "light"
     },
     "output_type": "display_data"
    }
   ],
   "source": [
    "test_a = np.array([\n",
    "    24, 10, 11, 22, 22, 6, 14, 19, 5, 5, 19, 15, 25, 9, 12, 5, 5, 19, 18, 5,\n",
    "    11, 15, 21, 20, 21, 12, 18, 11, 4, 16, 9, 2, 1, 20, 24, 22, 1, 12, 16, 5,\n",
    "    17, 9, 20, 16, 18, 7, 21, 22, 25, 13\n",
    "])\n",
    "test_b = np.array([\n",
    "    16, 22, 19, 26, 15, 12, 14, 25, 8, 8, 11, 16, 30, 19, 30, 7, 24, 17, 23,\n",
    "    13, 30, 16, 15, 27, 27, 15, 23, 28, 14, 14, 8, 24, 29, 20, 19, 13, 26, 27,\n",
    "    8, 27, 28, 12, 12, 27, 24, 12, 28, 18, 23, 20\n",
    "])\n",
    "\n",
    "plt.figure(figsize=(12, 6))\n",
    "plt.hist(test_a);\n",
    "plt.hist(test_b);"
   ]
  },
  {
   "cell_type": "code",
   "execution_count": 73,
   "metadata": {},
   "outputs": [
    {
     "name": "stdout",
     "output_type": "stream",
     "text": [
      "Проверим принадлежность выборок к нормальному распределению, для возможности использовать тест Стьюдента: \n",
      "p-value выборки 1 теста Шапиро-Уилка: 0.0242 \n",
      "p-value выборки 1 теста Колмогорова-Смирнова: 0.0000 \n",
      "p-value выборки 2 теста Шапиро-Уилка: 0.0114 \n",
      "p-value выборки 2 теста Колмогорова-Смирнова: 0.0000 \n",
      "Вывод: при уровне значимости 0.05 отвергаем гипотезу о нормальности данных, следовательно используем непараметрический аналог критерия Стьюдента - ранговый критерий Манна-Уитни\n",
      "\n",
      "Выборочные характеристики данных: \n",
      "Выборка 1: \n",
      "Количество элементов: 50 \n",
      "Среднее 13.980: \n",
      "Дисперсия 48.220: \n",
      "\n",
      "Выборка 2: \n",
      "Количество элементов: 50 \n",
      "Среднее 19.380: \n",
      "Дисперсия 48.036: \n",
      "\n",
      "Разница в средних значениях: 5.400\n"
     ]
    }
   ],
   "source": [
    "print(\n",
    "    \"Проверим принадлежность выборок к нормальному распределению, для возможности использовать тест Стьюдента:\",\n",
    "    \"\\np-value выборки 1 теста Шапиро-Уилка: %.4f\" %(scipy.stats.shapiro(test_a)[1]),\n",
    "    \"\\np-value выборки 1 теста Колмогорова-Смирнова: %.4f\" %(scipy.stats.kstest(test_a, \"norm\")[1]),\n",
    "    \"\\np-value выборки 2 теста Шапиро-Уилка: %.4f\" %(scipy.stats.shapiro(test_b)[1]),\n",
    "    \"\\np-value выборки 2 теста Колмогорова-Смирнова: %.4f\" %(scipy.stats.kstest(test_a, \"norm\")[1]),\n",
    "    \"\\nВывод: при уровне значимости 0.05 отвергаем гипотезу о нормальности данных, следовательно используем непараметрический аналог критерия Стьюдента - ранговый критерий Манна-Уитни\"\n",
    ")\n",
    "\n",
    "scipy.stats.mannwhitneyu(\n",
    "    test_a,\n",
    "    test_b\n",
    ")\n",
    "\n",
    "print(\n",
    "    \"\\nВыборочные характеристики данных:\",\n",
    "    \"\\nВыборка 1:\",\n",
    "    \"\\nКоличество элементов: %i\" %len(test_a),\n",
    "    \"\\nСреднее %.3f:\" %test_a.mean(),\n",
    "    \"\\nДисперсия %.3f:\" %test_a.var(),\n",
    "    \"\\n\\nВыборка 2:\",\n",
    "    \"\\nКоличество элементов: %i\" %len(test_b),\n",
    "    \"\\nСреднее %.3f:\" %test_b.mean(),\n",
    "    \"\\nДисперсия %.3f:\" %test_b.var(),\n",
    "    \"\\n\\nРазница в средних значениях: %.3f\" %(test_b.mean() - test_a.mean()) \n",
    ")"
   ]
  },
  {
   "cell_type": "markdown",
   "metadata": {},
   "source": [
    "## Задание 3\n",
    "Психолога цікавило, чи впливає вік експериментатора (молодий/літнього віку) на точність виконання\n",
    "графічного завдання (точність оцінювалася через кількість помилок). Дослідження проводилося за\n",
    "міжгруповим планом. Обґрунтуйте вибір критерію та інтерпретуйте отриманий результат.\n",
    "Кількість помилок за участі молодого експериментатора: \n",
    "<br>10, 8, 12, 1, 13, 4, 15, 8, 13, 4, 4, 8, 6, 6, 8, 6, 15,\n",
    "13, 13, 14, 2, 14, 11, 5, 12, 2, 8, 2, 5, 14\n",
    "\n",
    "<br> Кількість помилок за участі експериментатора літнього віку: \n",
    "<br>11, 6, 2, 5, 11, 11, 6, 9, 4, 2, 6, 2, 15, 8, 9, 2,\n",
    "5, 15, 8, 12, 3, 10, 15, 10, 14, 9, 14, 12, 3, 14\n"
   ]
  },
  {
   "cell_type": "code",
   "execution_count": 75,
   "metadata": {},
   "outputs": [
    {
     "data": {
      "image/png": "[encoded data removed]",
      "text/plain": [
       "<Figure size 864x432 with 1 Axes>"
      ]
     },
     "metadata": {
      "needs_background": "light"
     },
     "output_type": "display_data"
    }
   ],
   "source": [
    "test_a = np.array([\n",
    "    10, 8, 12, 1, 13, 4, 15, 8, 13, 4, 4, 8, 6, 6, 8, 6, \n",
    "    15, 13, 13, 14, 2, 14, 11, 5, 12, 2, 8, 2, 5, 14\n",
    "])\n",
    "test_b = np.array([\n",
    "    11, 6, 2, 5, 11, 11, 6, 9, 4, 2, 6, 2, 15, 8, 9, 2,\n",
    "    5, 15, 8, 12, 3, 10, 15, 10, 14, 9, 14, 12, 3, 14\n",
    "])\n",
    "\n",
    "plt.figure(figsize=(12, 6))\n",
    "plt.hist(test_a);\n",
    "plt.hist(test_b);"
   ]
  },
  {
   "cell_type": "code",
   "execution_count": 86,
   "metadata": {},
   "outputs": [
    {
     "name": "stdout",
     "output_type": "stream",
     "text": [
      "Проверим принадлежность выборок к нормальному распределению, для возможности использовать тест Стьюдента: \n",
      "Тест Шапиро-Уилка выборки 1: p-value = 0.0350; статистика = 0.9244 \n",
      "Тест Колмогорова-Смирнова выборки 1: p-value = 0.0000; статистика = 0.9439 \n",
      "Тест Шапиро-Уилка выборки 2: p-value = 0.0454; статистика = 0.9287 \n",
      "Тест Колмогорова-Смирнова выборки 2: p-value = 0.0000; статистика = 0.9772 \n",
      "Вывод: при уровне значимости 0.05 отвергаем гипотезу о нормальности данных, следовательно используем непараметрический аналог критерия Стьюдента - ранговый критерий Манна-Уитни \n",
      "\n",
      "Выборочные характеристики данных \n",
      "\n",
      "Выборка 1: \n",
      "Количество элементов: 30 \n",
      "Среднее 8.533: \n",
      "Дисперсия 19.249: \n",
      "\n",
      "Выборка 2: \n",
      "Количество элементов: 30 \n",
      "Среднее 8.433: \n",
      "Дисперсия 18.646: \n",
      "\n",
      "Разница в средних значениях: -0.100\n",
      "Результаты теста Манна-Уитни: \n",
      "p-value: 0.4911 \n",
      "Статистика: 448.0000 \n",
      "При уровне значимости 0.05 мы принимаем гипотезу о равенстве средних в двух выборках\n"
     ]
    }
   ],
   "source": [
    "shapiro_a = scipy.stats.shapiro(test_a)\n",
    "ks_a = scipy.stats.kstest(test_a, \"norm\")\n",
    "\n",
    "shapiro_b = scipy.stats.shapiro(test_b)\n",
    "ks_b = scipy.stats.kstest(test_b, \"norm\")\n",
    "\n",
    "print(\n",
    "    \"Проверим принадлежность выборок к нормальному распределению, для возможности использовать тест Стьюдента:\",\n",
    "    \"\\nТест Шапиро-Уилка выборки 1: p-value = %.4f; статистика = %.4f\" %(shapiro_a[1], shapiro_a[0]),\n",
    "    \"\\nТест Колмогорова-Смирнова выборки 1: p-value = %.4f; статистика = %.4f\" %(ks_a[1], ks_a[0]),\n",
    "    \"\\nТест Шапиро-Уилка выборки 2: p-value = %.4f; статистика = %.4f\" %(shapiro_b[1], shapiro_b[0]),\n",
    "    \"\\nТест Колмогорова-Смирнова выборки 2: p-value = %.4f; статистика = %.4f\" %(ks_b[1], ks_b[0]),\n",
    "    \"\\nВывод: при уровне значимости 0.05 отвергаем гипотезу о нормальности данных, следовательно используем непараметрический аналог критерия Стьюдента - ранговый критерий Манна-Уитни\",\n",
    "    \n",
    "    \"\\n\\nВыборочные характеристики данных\",\n",
    "    \n",
    "    \"\\n\\nВыборка 1:\",\n",
    "    \"\\nКоличество элементов: %i\" %len(test_a),\n",
    "    \"\\nСреднее %.3f:\" %test_a.mean(),\n",
    "    \"\\nДисперсия %.3f:\" %test_a.var(),\n",
    "    \n",
    "    \"\\n\\nВыборка 2:\",\n",
    "    \"\\nКоличество элементов: %i\" %len(test_b),\n",
    "    \"\\nСреднее %.3f:\" %test_b.mean(),\n",
    "    \"\\nДисперсия %.3f:\" %test_b.var(),\n",
    "    \"\\n\\nРазница в средних значениях: %.3f\" %(test_b.mean() - test_a.mean()) \n",
    ")\n",
    "\n",
    "whitney_test =  scipy.stats.mannwhitneyu(test_a, test_b)\n",
    "\n",
    "print(\n",
    "    \"Результаты теста Манна-Уитни:\",\n",
    "    \"\\np-value: %.4f\" %whitney_test[1],\n",
    "    \"\\nСтатистика: %.4f\" %whitney_test[0],\n",
    "    \"\\nПри уровне значимости 0.05 мы принимаем гипотезу о равенстве средних в двух выборках\"\n",
    ")"
   ]
  },
  {
   "cell_type": "markdown",
   "metadata": {},
   "source": [
    "## Задание 4\n",
    "Психолога цікавило, чи впливає вік експериментатора (молодий/літнього віку) на точність виконання\n",
    "графічного завдання (точність оцінювалася через кількість помилок). Дослідження проводилося за\n",
    "внутрішньосуб’єктним планом. Обґрунтуйте вибір критерію та інтерпретуйте отриманий результат.\n",
    "<br>Кількість помилок за участі молодого експериментатора: \n",
    "<br>1, 5, 14, 9, 19, 20, 17, 2, 3, 17, 14, 15, 6, 5, 1, 12,\n",
    "18, 12, 6, 4, 6, 13, 3, 20, 2, 20, 20, 12, 15, 9\n",
    "<br><br>Кількість помилок за участі експериментатора літнього віку: \n",
    "<br>15, 9, 10, 4, 4, 1, 10, 4, 3, 6, 10, 12, 5, 15, 10,\n",
    "10, 7, 14, 7, 6, 1, 3, 3, 7, 5, 2, 9, 1, 1, 13\n"
   ]
  },
  {
   "cell_type": "code",
   "execution_count": 87,
   "metadata": {},
   "outputs": [
    {
     "data": {
      "image/png": "[encoded data removed]",
      "text/plain": [
       "<Figure size 864x432 with 1 Axes>"
      ]
     },
     "metadata": {
      "needs_background": "light"
     },
     "output_type": "display_data"
    }
   ],
   "source": [
    "test_a = np.array([\n",
    "    1, 5, 14, 9, 19, 20, 17, 2, 3, 17, 14, 15, 6, 5, 1,\n",
    "    12, 18, 12, 6, 4, 6, 13, 3, 20, 2, 20, 20, 12, 15, 9\n",
    "])\n",
    "test_b = np.array([\n",
    "    15, 9, 10, 4, 4, 1, 10, 4, 3, 6, 10, 12, 5, 15, 10,\n",
    "    10, 7, 14, 7, 6, 1, 3, 3, 7, 5, 2, 9, 1, 1, 13\n",
    "])\n",
    "\n",
    "plt.figure(figsize=(12, 6))\n",
    "plt.hist(test_a);\n",
    "plt.hist(test_b);"
   ]
  },
  {
   "cell_type": "code",
   "execution_count": 94,
   "metadata": {},
   "outputs": [
    {
     "name": "stdout",
     "output_type": "stream",
     "text": [
      "Проверим принадлежность выборок к нормальному распределению, для возможности использовать тест Стьюдента: \n",
      "Тест Шапиро-Уилка выборки 1: p-value = 0.0189; статистика = 0.9141 \n",
      "Тест Колмогорова-Смирнова выборки 1: p-value = 0.0000; статистика = 0.9106 \n",
      "Тест Шапиро-Уилка выборки 2: p-value = 0.0852; статистика = 0.9389 \n",
      "Тест Колмогорова-Смирнова выборки 2: p-value = 0.0000; статистика = 0.8439 \n",
      "Вывод: при уровне значимости 0.05 отвергаем гипотезу о нормальности данных первой выборки. Для большей строгости, воспользуемся непараметрическим аналогом парного критерия Стьюдента - критерием знаков Уилкоксона \n",
      "\n",
      "Выборочные характеристики данных \n",
      "\n",
      "Выборка 1: \n",
      "Количество элементов: 30 \n",
      "Среднее 10.667: \n",
      "Дисперсия 41.889: \n",
      "\n",
      "Выборка 2: \n",
      "Количество элементов: 30 \n",
      "Среднее 6.900: \n",
      "Дисперсия 18.157: \n",
      "\n",
      "Разница в средних значениях: 3.767\n",
      "Результаты теста Уилкоксона: \n",
      "p-value: 0.0207 \n",
      "Статистика: 101.5000 \n",
      "При уровне значимости 0.05 мы отвергаем нулевую гипотезу о том, что выборки взяты из единой генеральной совокупности \n",
      "(между группами есть разница)\n"
     ]
    }
   ],
   "source": [
    "shapiro_a = scipy.stats.shapiro(test_a)\n",
    "ks_a = scipy.stats.kstest(test_a, \"norm\")\n",
    "\n",
    "shapiro_b = scipy.stats.shapiro(test_b)\n",
    "ks_b = scipy.stats.kstest(test_b, \"norm\")\n",
    "\n",
    "print(\n",
    "    \"Проверим принадлежность выборок к нормальному распределению, для возможности использовать тест Стьюдента:\",\n",
    "    \"\\nТест Шапиро-Уилка выборки 1: p-value = %.4f; статистика = %.4f\" %(shapiro_a[1], shapiro_a[0]),\n",
    "    \"\\nТест Колмогорова-Смирнова выборки 1: p-value = %.4f; статистика = %.4f\" %(ks_a[1], ks_a[0]),\n",
    "    \"\\nТест Шапиро-Уилка выборки 2: p-value = %.4f; статистика = %.4f\" %(shapiro_b[1], shapiro_b[0]),\n",
    "    \"\\nТест Колмогорова-Смирнова выборки 2: p-value = %.4f; статистика = %.4f\" %(ks_b[1], ks_b[0]),\n",
    "    \"\\nВывод: при уровне значимости 0.05 отвергаем гипотезу о нормальности данных первой выборки. Для большей строгости, воспользуемся непараметрическим аналогом парного критерия Стьюдента - критерием знаков Уилкоксона\",\n",
    "    \n",
    "    \"\\n\\nВыборочные характеристики данных\",\n",
    "    \n",
    "    \"\\n\\nВыборка 1:\",\n",
    "    \"\\nКоличество элементов: %i\" %len(test_a),\n",
    "    \"\\nСреднее %.3f:\" %test_a.mean(),\n",
    "    \"\\nДисперсия %.3f:\" %test_a.var(),\n",
    "    \n",
    "    \"\\n\\nВыборка 2:\",\n",
    "    \"\\nКоличество элементов: %i\" %len(test_b),\n",
    "    \"\\nСреднее %.3f:\" %test_b.mean(),\n",
    "    \"\\nДисперсия %.3f:\" %test_b.var(),\n",
    "    \"\\n\\nРазница в средних значениях: %.3f\" %abs(test_b.mean() - test_a.mean()) \n",
    ")\n",
    "\n",
    "wilcox_test = stats.wilcoxon(test_a, test_b)\n",
    "\n",
    "print(\n",
    "    \"Результаты теста Уилкоксона:\",\n",
    "    \"\\np-value: %.4f\" %wilcox_test[1],\n",
    "    \"\\nСтатистика: %.4f\" %wilcox_test[0],\n",
    "    \"\\nПри уровне значимости 0.05 мы отвергаем нулевую гипотезу о том, что выборки взяты из единой генеральной совокупности \\n(между группами есть разница)\"\n",
    ")"
   ]
  },
  {
   "cell_type": "markdown",
   "metadata": {},
   "source": [
    "## Задание 5\n",
    "Психолога цікавило, чи існують відмінності, пов’язані із рівнем експресивності особи (низький/\n",
    "середній/ високий), у проявах особистісної тривожності. Обґрунтуйте вибір критерію та інтерпретуйте\n",
    "отриманий результат.\n",
    "\n",
    "<br>Показники особистісної тривожності у осіб із низьким рівнем експресивності: \n",
    "<br>8, 19, 18, 12, 15, 3, 2, 8,\n",
    "21, 22, 1, 4, 12, 9, 11, 7, 6, 1, 20, 7, 6, 5, 6, 12, 18, 5, 4, 17, 21, 19, 18, 6, 15, 13, 17, 8, 16, 19, 15, 14, 18, 16,\n",
    "18, 8, 2\n",
    "\n",
    "<br>Показники особистісної тривожності у осіб із середнім рівнем експресивності: \n",
    "<br>23, 16, 16, 8, 8, 16, 12, 24,\n",
    "12, 13, 21, 17, 21, 11, 8, 14, 16, 12, 22, 17, 13, 20, 13, 11, 7, 8, 15, 16, 24, 14, 22, 22, 23, 13, 23, 25, 22, 10, 23,\n",
    "9, 16, 19, 19, 12, 23\n",
    "\n",
    "<br>Показники особистісної тривожності у осіб із високим рівнем експресивності: \n",
    "<br>28, 17, 12, 16, 21, 18, 24,\n",
    "18, 23, 21, 25, 30, 22, 14, 26, 20, 29, 25, 23, 19, 30, 13, 15, 30, 20, 19, 15, 18, 15, 12, 23, 13, 17, 23, 18, 26, 30,\n",
    "30, 14, 23, 21, 27, 22, 12, 29\n",
    "\n",
    "Для поправки на множественные сравнения воспользуемся пост-хок надстройкой над тестом Краскала-Уоллиса - тестом Коновера-Имана, основанном на z-статистике, этот тест является асимптотически более мощным, чем тест Данна, использующим поправки Бонферрони (статья https://permalink.lanl.gov/object/tr?what=info:lanl-repo/lareport/LA-07677-MS). Причины, по которой мы используем поправки на попарные сравнения - ошибка множественных сравнений (Family Wise Error Rate), основные поправки Бонферрони и Холма рассмотренны в статье https://pdfs.semanticscholar.org/7f0a/29a89655d7998efc7bb53e695b3b950bf7fd.pdf"
   ]
  },
  {
   "cell_type": "code",
   "execution_count": 96,
   "metadata": {},
   "outputs": [
    {
     "data": {
      "image/png": "[encoded data removed]",
      "text/plain": [
       "<Figure size 864x432 with 1 Axes>"
      ]
     },
     "metadata": {
      "needs_background": "light"
     },
     "output_type": "display_data"
    }
   ],
   "source": [
    "test_a = np.array([\n",
    "    8, 19, 18, 12, 15, 3, 2, 8, 21, 22, 1, 4, 12, 9, 11, 7, 6, 1, 20,\n",
    "    7, 6, 5, 6, 12, 18, 5, 4, 17, 21, 19, 18, 6, 15, 13, 17, 8, 16, 19,\n",
    "    15, 14, 18, 16, 18, 8, 2\n",
    "])\n",
    "test_b = np.array([\n",
    "    23, 16, 16, 8, 8, 16, 12, 24, 12, 13, 21, 17, 21, 11, 8, 14, 16, 12, 22,\n",
    "    17, 13, 20, 13, 11, 7, 8, 15, 16, 24, 14, 22, 22, 23, 13, 23, 25, 22, 10,\n",
    "    23, 9, 16, 19, 19, 12, 23\n",
    "])\n",
    "test_c = np.array([\n",
    "    28, 17, 12, 16, 21, 18, 24, 18, 23, 21, 25, 30, 22, 14, 26, 20, 29, 25, 23,\n",
    "    19, 30, 13, 15, 30, 20, 19, 15, 18, 15, 12, 23, 13, 17, 23, 18, 26, 30, 30,\n",
    "    14, 23, 21, 27, 22, 12, 29\n",
    "])\n",
    "\n",
    "plt.figure(figsize=(12, 6))\n",
    "plt.hist(test_a);\n",
    "plt.hist(test_b);\n",
    "plt.hist(test_c);"
   ]
  },
  {
   "cell_type": "code",
   "execution_count": 143,
   "metadata": {},
   "outputs": [
    {
     "name": "stdout",
     "output_type": "stream",
     "text": [
      "Проверим принадлежность выборок к нормальному распределению, для возможности использовать тест Стьюдента: \n",
      "Тест Шапиро-Уилка выборки 1: p-value = 0.0137; статистика = 0.9346 \n",
      "Тест Шапиро-Уилка выборки 2: p-value = 0.0176; статистика = 0.9377 \n",
      "Тест Шапиро-Уилка выборки 3: p-value = 0.0411; статистика = 0.9476 \n",
      "\n",
      "Вывод: при уровне значимости 0.05 отвергаем гипотезу о нормальности данных для всех выборок. \n",
      "Так как дисперсионный анализ является многомерным обобщением критерия Стьюдента, использовать его мы не можем. \n",
      "Воспользуемся критерием Краскала-Уоллиса - многомерным обобщением критерия Манна-Уитни \n",
      "\n",
      "Выборочные характеристики данных \n",
      "\n",
      "Выборка 1: \n",
      "Количество элементов: 45 \n",
      "Среднее 11.600: \n",
      "Дисперсия 39.484: \n",
      "\n",
      "Выборка 2: \n",
      "Количество элементов: 45 \n",
      "Среднее 16.200: \n",
      "Дисперсия 28.071: \n",
      "\n",
      "Выборка 3: \n",
      "Количество элементов: 45 \n",
      "Среднее 21.022: \n",
      "Дисперсия 31.355:\n",
      "\n",
      "Результаты теста Краскала-Уоллиса: \n",
      "p-value: 0.0000 \n",
      "Статистика: 37.4012 \n",
      "При уровне значимости 0.05 мы отвергаем нулевую гипотезу о том, что ВСЕ выборки взяты из единой генеральной совокупности \n",
      "Для того, чтобы определить между какими группами есть разница, воспользуемся пост-хок тестом Коновера:\n",
      "              1         2             3\n",
      "1 -1.000000e+00  0.000920  1.634243e-10\n",
      "2  9.197007e-04 -1.000000  5.175848e-04\n",
      "3  1.634243e-10  0.000518 -1.000000e+00 \n",
      "Статистически значимая разница с уровнем значимости 0.05 выявлена между КАЖДОЙ группой в попарном сравнении\n"
     ]
    }
   ],
   "source": [
    "import scikit_posthocs as sp\n",
    "\n",
    "shapiro_a = scipy.stats.shapiro(test_a)\n",
    "shapiro_b = scipy.stats.shapiro(test_b)\n",
    "shapiro_c = scipy.stats.shapiro(test_c)\n",
    "\n",
    "print(\n",
    "    \"Проверим принадлежность выборок к нормальному распределению, для возможности использовать тест Стьюдента:\",\n",
    "    \"\\nТест Шапиро-Уилка выборки 1: p-value = %.4f; статистика = %.4f\" %(shapiro_a[1], shapiro_a[0]),\n",
    "    \"\\nТест Шапиро-Уилка выборки 2: p-value = %.4f; статистика = %.4f\" %(shapiro_b[1], shapiro_b[0]),\n",
    "    \"\\nТест Шапиро-Уилка выборки 3: p-value = %.4f; статистика = %.4f\" %(shapiro_c[1], shapiro_c[0]),\n",
    "    \"\\n\\nВывод: при уровне значимости 0.05 отвергаем гипотезу о нормальности данных для всех выборок.\",\n",
    "    \"\\nТак как дисперсионный анализ является многомерным обобщением критерия Стьюдента, использовать его мы не можем.\",\n",
    "    \"\\nВоспользуемся критерием Краскала-Уоллиса - многомерным обобщением критерия Манна-Уитни\",\n",
    "    \n",
    "    \"\\n\\nВыборочные характеристики данных\",\n",
    "    \n",
    "    \"\\n\\nВыборка 1:\",\n",
    "    \"\\nКоличество элементов: %i\" %len(test_a),\n",
    "    \"\\nСреднее %.3f:\" %test_a.mean(),\n",
    "    \"\\nДисперсия %.3f:\" %test_a.var(),\n",
    "    \n",
    "    \"\\n\\nВыборка 2:\",\n",
    "    \"\\nКоличество элементов: %i\" %len(test_b),\n",
    "    \"\\nСреднее %.3f:\" %test_b.mean(),\n",
    "    \"\\nДисперсия %.3f:\" %test_b.var(),\n",
    "    \n",
    "    \"\\n\\nВыборка 3:\",\n",
    "    \"\\nКоличество элементов: %i\" %len(test_c),\n",
    "    \"\\nСреднее %.3f:\" %test_c.mean(),\n",
    "    \"\\nДисперсия %.3f:\" %test_c.var(),\n",
    ")\n",
    "\n",
    "test_result = stats.kruskal(test_a, test_b, test_c)\n",
    "test_conover = sp.posthoc_conover(\n",
    "    [test_a, test_b, test_c],\n",
    "    p_adjust = \"holm-sidak\"\n",
    ")\n",
    "print(\n",
    "    \"\\nРезультаты теста Краскала-Уоллиса:\",\n",
    "    \"\\np-value: %.4f\" %test_result[1],\n",
    "    \"\\nСтатистика: %.4f\" %test_result[0],\n",
    "    \"\\nПри уровне значимости 0.05 мы отвергаем нулевую гипотезу о том, что ВСЕ выборки взяты из единой генеральной совокупности\",\n",
    "    \"\\nДля того, чтобы определить между какими группами есть разница, воспользуемся пост-хок тестом Коновера:\"\n",
    ")\n",
    "\n",
    "print(\n",
    "    test_conover,\n",
    "    \"\\nСтатистически значимая разница с уровнем значимости 0.05 выявлена между КАЖДОЙ группой в попарном сравнении\"\n",
    ")"
   ]
  },
  {
   "cell_type": "markdown",
   "metadata": {},
   "source": [
    "## Задание 6\n",
    "Психолога цікавило, чи існує зв’язок між інтроверсією/інтроверсією (1/2) та переживанням щастя (1/2 :\n",
    "нещасливий/щасливий) Обґрунтуйте вибір критерію та інтерпретуйте отриманий результат.\n",
    "<br><br>Інтроверсія/екстраверсія: \n",
    "<br>2, 1, 2, 1, 1, 2, 2, 1, 1, 1, 2, 1, 1, 2, 1, 1, 2, 2, 1, 2, 1, 1, 1, 2, 2, 2, 1, 2, 2, 1, 1, 1, 2, 1,\n",
    "2, 2, 2, 2, 1, 1, 2, 2, 2, 1, 1, 1, 2, 1, 1, 2, 2, 1, 2, 1, 2, 2, 1, 1, 2, 2\n",
    "<br><br>Нещасливий/щасливий: \n",
    "<br>1, 2, 2, 1, 2, 2, 1, 2, 1, 2, 1, 1, 1, 1, 2, 2, 1, 1, 1, 1, 2, 2, 2, 1, 2, 1, 1, 2, 2, 2, 1, 1, 2, 2,\n",
    "2, 1, 2, 2, 1, 2, 2, 1, 1, 2, 2, 1, 1, 1, 1, 2, 1, 2, 2, 1, 1, 1, 1, 1, 2, 1\n"
   ]
  },
  {
   "cell_type": "code",
   "execution_count": 147,
   "metadata": {},
   "outputs": [
    {
     "data": {
      "image/png": "[encoded data removed]",
      "text/plain": [
       "<Figure size 864x432 with 1 Axes>"
      ]
     },
     "metadata": {
      "needs_background": "light"
     },
     "output_type": "display_data"
    },
    {
     "data": {
      "image/png": "[encoded data removed]",
      "text/plain": [
       "<Figure size 864x432 with 1 Axes>"
      ]
     },
     "metadata": {
      "needs_background": "light"
     },
     "output_type": "display_data"
    }
   ],
   "source": [
    "test_a = np.array([\n",
    "    2, 1, 2, 1, 1, 2, 2, 1, 1, 1, 2, 1, 1, 2, 1, 1, 2, 2, 1, 2, 1, 1,\n",
    "    1, 2, 2, 2, 1, 2, 2, 1, 1, 1, 2, 1, 2, 2, 2, 2, 1, 1, 2, 2, 2, 1,\n",
    "    1, 1, 2, 1, 1, 2, 2, 1, 2, 1, 2, 2, 1, 1, 2, 2\n",
    "])\n",
    "test_b = np.array([\n",
    "    1, 2, 2, 1, 2, 2, 1, 2, 1, 2, 1, 1, 1, 1, 2, 2, 1, 1, 1, 1, 2, 2,\n",
    "    2, 1, 2, 1, 1, 2, 2, 2, 1, 1, 2, 2, 2, 1, 2, 2, 1, 2, 2, 1, 1, 2,\n",
    "    2, 1, 1, 1, 1, 2, 1, 2, 2, 1, 1, 1, 1, 1, 2, 1\n",
    "])\n",
    "\n",
    "plt.figure(figsize=(12, 6))\n",
    "plt.hist(test_a);\n",
    "plt.figure(figsize=(12, 6))\n",
    "plt.hist(test_b);"
   ]
  },
  {
   "cell_type": "code",
   "execution_count": 94,
   "metadata": {},
   "outputs": [
    {
     "name": "stdout",
     "output_type": "stream",
     "text": [
      "Проверим принадлежность выборок к нормальному распределению, для возможности использовать тест Стьюдента: \n",
      "Тест Шапиро-Уилка выборки 1: p-value = 0.0189; статистика = 0.9141 \n",
      "Тест Колмогорова-Смирнова выборки 1: p-value = 0.0000; статистика = 0.9106 \n",
      "Тест Шапиро-Уилка выборки 2: p-value = 0.0852; статистика = 0.9389 \n",
      "Тест Колмогорова-Смирнова выборки 2: p-value = 0.0000; статистика = 0.8439 \n",
      "Вывод: при уровне значимости 0.05 отвергаем гипотезу о нормальности данных первой выборки. Для большей строгости, воспользуемся непараметрическим аналогом парного критерия Стьюдента - критерием знаков Уилкоксона \n",
      "\n",
      "Выборочные характеристики данных \n",
      "\n",
      "Выборка 1: \n",
      "Количество элементов: 30 \n",
      "Среднее 10.667: \n",
      "Дисперсия 41.889: \n",
      "\n",
      "Выборка 2: \n",
      "Количество элементов: 30 \n",
      "Среднее 6.900: \n",
      "Дисперсия 18.157: \n",
      "\n",
      "Разница в средних значениях: 3.767\n",
      "Результаты теста Уилкоксона: \n",
      "p-value: 0.0207 \n",
      "Статистика: 101.5000 \n",
      "При уровне значимости 0.05 мы отвергаем нулевую гипотезу о том, что выборки взяты из единой генеральной совокупности \n",
      "(между группами есть разница)\n"
     ]
    }
   ],
   "source": [
    "shapiro_a = scipy.stats.shapiro(test_a)\n",
    "ks_a = scipy.stats.kstest(test_a, \"norm\")\n",
    "\n",
    "shapiro_b = scipy.stats.shapiro(test_b)\n",
    "ks_b = scipy.stats.kstest(test_b, \"norm\")\n",
    "\n",
    "print(\n",
    "    \"Проверим принадлежность выборок к нормальному распределению, для возможности использовать тест Стьюдента:\",\n",
    "    \"\\nТест Шапиро-Уилка выборки 1: p-value = %.4f; статистика = %.4f\" %(shapiro_a[1], shapiro_a[0]),\n",
    "    \"\\nТест Колмогорова-Смирнова выборки 1: p-value = %.4f; статистика = %.4f\" %(ks_a[1], ks_a[0]),\n",
    "    \"\\nТест Шапиро-Уилка выборки 2: p-value = %.4f; статистика = %.4f\" %(shapiro_b[1], shapiro_b[0]),\n",
    "    \"\\nТест Колмогорова-Смирнова выборки 2: p-value = %.4f; статистика = %.4f\" %(ks_b[1], ks_b[0]),\n",
    "    \"\\nВывод: при уровне значимости 0.05 отвергаем гипотезу о нормальности данных первой выборки. Для большей строгости, воспользуемся непараметрическим аналогом парного критерия Стьюдента - критерием знаков Уилкоксона\",\n",
    "    \n",
    "    \"\\n\\nВыборочные характеристики данных\",\n",
    "    \n",
    "    \"\\n\\nВыборка 1:\",\n",
    "    \"\\nКоличество элементов: %i\" %len(test_a),\n",
    "    \"\\nСреднее %.3f:\" %test_a.mean(),\n",
    "    \"\\nДисперсия %.3f:\" %test_a.var(),\n",
    "    \n",
    "    \"\\n\\nВыборка 2:\",\n",
    "    \"\\nКоличество элементов: %i\" %len(test_b),\n",
    "    \"\\nСреднее %.3f:\" %test_b.mean(),\n",
    "    \"\\nДисперсия %.3f:\" %test_b.var(),\n",
    "    \"\\n\\nРазница в средних значениях: %.3f\" %abs(test_b.mean() - test_a.mean()) \n",
    ")\n",
    "\n",
    "wilcox_test = stats.wilcoxon(test_a, test_b)\n",
    "\n",
    "print(\n",
    "    \"Результаты теста Уилкоксона:\",\n",
    "    \"\\np-value: %.4f\" %wilcox_test[1],\n",
    "    \"\\nСтатистика: %.4f\" %wilcox_test[0],\n",
    "    \"\\nПри уровне значимости 0.05 мы отвергаем нулевую гипотезу о том, что выборки взяты из единой генеральной совокупности \\n(между группами есть разница)\"\n",
    ")"
   ]
  }
 ],
 "metadata": {
  "kernelspec": {
   "display_name": "Python 3",
   "language": "python",
   "name": "python3"
  },
  "language_info": {
   "codemirror_mode": {
    "name": "ipython",
    "version": 3
   },
   "file_extension": ".py",
   "mimetype": "text/x-python",
   "name": "python",
   "nbconvert_exporter": "python",
   "pygments_lexer": "ipython3",
   "version": "3.7.4"
  }
 },
 "nbformat": 4,
 "nbformat_minor": 4
}
